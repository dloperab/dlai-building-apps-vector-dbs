{
 "cells": [
  {
   "cell_type": "markdown",
   "metadata": {},
   "source": [
    "# Lesson 2 - Retrieval Augmented Generation (RAG)"
   ]
  },
  {
   "cell_type": "markdown",
   "metadata": {},
   "source": [
    "### Import packages"
   ]
  },
  {
   "cell_type": "code",
   "execution_count": 1,
   "metadata": {},
   "outputs": [],
   "source": [
    "import warnings\n",
    "warnings.filterwarnings('ignore')"
   ]
  },
  {
   "cell_type": "code",
   "execution_count": 2,
   "metadata": {},
   "outputs": [],
   "source": [
    "from openai import OpenAI\n",
    "from pinecone import Pinecone, ServerlessSpec\n",
    "from tqdm.auto import tqdm\n",
    "from DLAIUtils import Utils\n",
    "\n",
    "import ast\n",
    "import os\n",
    "import pandas as pd"
   ]
  },
  {
   "cell_type": "markdown",
   "metadata": {},
   "source": [
    "### Set up Pinecone"
   ]
  },
  {
   "cell_type": "code",
   "execution_count": 3,
   "metadata": {},
   "outputs": [],
   "source": [
    "utils = Utils()\n",
    "PINECONE_API_KEY = utils.get_pinecone_api_key()"
   ]
  },
  {
   "cell_type": "code",
   "execution_count": 4,
   "metadata": {},
   "outputs": [],
   "source": [
    "pinecone = Pinecone(api_key=PINECONE_API_KEY)\n",
    "INDEX_NAME = \"dl-ai-wiki\"\n",
    "\n",
    "if INDEX_NAME in [index.name for index in pinecone.list_indexes()]:\n",
    "  pinecone.delete_index(INDEX_NAME)\n",
    "\n",
    "pinecone.create_index(\n",
    "  name=INDEX_NAME,\n",
    "  dimension=1536,\n",
    "  metric=\"cosine\",\n",
    "  spec=ServerlessSpec(cloud=\"aws\", region=\"us-east-1\"))\n",
    "\n",
    "index = pinecone.Index(INDEX_NAME)"
   ]
  },
  {
   "cell_type": "markdown",
   "metadata": {},
   "source": [
    "### Load the dataset"
   ]
  },
  {
   "cell_type": "markdown",
   "metadata": {},
   "source": [
    "#### Download the dataset\n"
   ]
  },
  {
   "cell_type": "code",
   "execution_count": 5,
   "metadata": {},
   "outputs": [],
   "source": [
    "if not os.path.exists(\"wiki.csv\"):\n",
    "    !wget -q -O lesson2-wiki.csv.zip \"https://www.dropbox.com/scl/fi/yxzmsrv2sgl249zcspeqb/lesson2-wiki.csv.zip?rlkey=paehnoxjl3s5x53d1bedt4pmc&dl=0\"\n",
    "    !unzip lesson2-wiki.csv.zip"
   ]
  },
  {
   "cell_type": "markdown",
   "metadata": {},
   "source": [
    "### Load the dataset\n",
    "\n",
    "<p style=\"background-color:#fff1d7; padding:15px; \"> <b>(Note: <code>max_articles_num = 500</code>):</b> To achieve a more comprehensive context for the Language Learning Model, a larger number of articles is generally more beneficial. In this lab, we've initially set <code>max_articles_num</code> to 500 for speedier results, allowing you to observe the outcomes faster. Once you've done an initial run, consider increasing this value to 750 or 1,000. You'll likely notice that the context provided to the LLM becomes richer and better. You can experiment by gradually raising this variable for different queries to observe the improvements in the LLM's contextual understanding.</p>"
   ]
  },
  {
   "cell_type": "code",
   "execution_count": 6,
   "metadata": {},
   "outputs": [
    {
     "data": {
      "text/html": [
       "<div>\n",
       "<style scoped>\n",
       "    .dataframe tbody tr th:only-of-type {\n",
       "        vertical-align: middle;\n",
       "    }\n",
       "\n",
       "    .dataframe tbody tr th {\n",
       "        vertical-align: top;\n",
       "    }\n",
       "\n",
       "    .dataframe thead th {\n",
       "        text-align: right;\n",
       "    }\n",
       "</style>\n",
       "<table border=\"1\" class=\"dataframe\">\n",
       "  <thead>\n",
       "    <tr style=\"text-align: right;\">\n",
       "      <th></th>\n",
       "      <th>id</th>\n",
       "      <th>metadata</th>\n",
       "      <th>values</th>\n",
       "    </tr>\n",
       "  </thead>\n",
       "  <tbody>\n",
       "    <tr>\n",
       "      <th>1</th>\n",
       "      <td>1-0</td>\n",
       "      <td>{'chunk': 0, 'source': 'https://simple.wikiped...</td>\n",
       "      <td>[-0.011254455894231796, -0.01698738895356655, ...</td>\n",
       "    </tr>\n",
       "    <tr>\n",
       "      <th>2</th>\n",
       "      <td>1-1</td>\n",
       "      <td>{'chunk': 1, 'source': 'https://simple.wikiped...</td>\n",
       "      <td>[-0.0015197008615359664, -0.007858820259571075...</td>\n",
       "    </tr>\n",
       "    <tr>\n",
       "      <th>3</th>\n",
       "      <td>1-2</td>\n",
       "      <td>{'chunk': 2, 'source': 'https://simple.wikiped...</td>\n",
       "      <td>[-0.009930099360644817, -0.012211072258651257,...</td>\n",
       "    </tr>\n",
       "    <tr>\n",
       "      <th>4</th>\n",
       "      <td>1-3</td>\n",
       "      <td>{'chunk': 3, 'source': 'https://simple.wikiped...</td>\n",
       "      <td>[-0.011600767262279987, -0.012608098797500134,...</td>\n",
       "    </tr>\n",
       "    <tr>\n",
       "      <th>5</th>\n",
       "      <td>1-4</td>\n",
       "      <td>{'chunk': 4, 'source': 'https://simple.wikiped...</td>\n",
       "      <td>[-0.026462381705641747, -0.016362832859158516,...</td>\n",
       "    </tr>\n",
       "  </tbody>\n",
       "</table>\n",
       "</div>"
      ],
      "text/plain": [
       "    id                                           metadata  \\\n",
       "1  1-0  {'chunk': 0, 'source': 'https://simple.wikiped...   \n",
       "2  1-1  {'chunk': 1, 'source': 'https://simple.wikiped...   \n",
       "3  1-2  {'chunk': 2, 'source': 'https://simple.wikiped...   \n",
       "4  1-3  {'chunk': 3, 'source': 'https://simple.wikiped...   \n",
       "5  1-4  {'chunk': 4, 'source': 'https://simple.wikiped...   \n",
       "\n",
       "                                              values  \n",
       "1  [-0.011254455894231796, -0.01698738895356655, ...  \n",
       "2  [-0.0015197008615359664, -0.007858820259571075...  \n",
       "3  [-0.009930099360644817, -0.012211072258651257,...  \n",
       "4  [-0.011600767262279987, -0.012608098797500134,...  \n",
       "5  [-0.026462381705641747, -0.016362832859158516,...  "
      ]
     },
     "execution_count": 6,
     "metadata": {},
     "output_type": "execute_result"
    }
   ],
   "source": [
    "max_articles_num = 500\n",
    "df = pd.read_csv(\"wiki.csv\", nrows=max_articles_num)\n",
    "df.head()"
   ]
  },
  {
   "cell_type": "markdown",
   "metadata": {},
   "source": [
    "### Prepare the embeddings and Upsert to Pinecone"
   ]
  },
  {
   "cell_type": "code",
   "execution_count": 7,
   "metadata": {},
   "outputs": [
    {
     "name": "stderr",
     "output_type": "stream",
     "text": [
      "100%|██████████| 500/500 [00:07<00:00, 63.09it/s] \n"
     ]
    }
   ],
   "source": [
    "prepped = []\n",
    "\n",
    "for i, row in tqdm(df.iterrows(), total=df.shape[0]):\n",
    "    metada = ast.literal_eval(row['metadata'])\n",
    "    prepped.append({'id':row['id'], \n",
    "                    'values':ast.literal_eval(row['values']), \n",
    "                    'metadata':metada})\n",
    "    if len(prepped) >= 250:\n",
    "        index.upsert(prepped)\n",
    "        prepped = []"
   ]
  },
  {
   "cell_type": "code",
   "execution_count": 8,
   "metadata": {},
   "outputs": [
    {
     "data": {
      "text/plain": [
       "{'dimension': 1536,\n",
       " 'index_fullness': 0.0,\n",
       " 'namespaces': {'': {'vector_count': 500}},\n",
       " 'total_vector_count': 500}"
      ]
     },
     "execution_count": 8,
     "metadata": {},
     "output_type": "execute_result"
    }
   ],
   "source": [
    "index.describe_index_stats()"
   ]
  },
  {
   "cell_type": "markdown",
   "metadata": {},
   "source": [
    "### Connecto to OpenAI"
   ]
  },
  {
   "cell_type": "code",
   "execution_count": 9,
   "metadata": {},
   "outputs": [],
   "source": [
    "OPENAI_API_KEY = utils.get_openai_api_key()\n",
    "openai_client = OpenAI(api_key=OPENAI_API_KEY)"
   ]
  },
  {
   "cell_type": "markdown",
   "metadata": {},
   "source": [
    "### Helper function to generate completions"
   ]
  },
  {
   "cell_type": "code",
   "execution_count": 10,
   "metadata": {},
   "outputs": [],
   "source": [
    "def get_embeddings(articles, model=\"text-embedding-ada-002\"):\n",
    "   return openai_client.embeddings.create(input=articles, model=model)"
   ]
  },
  {
   "cell_type": "markdown",
   "metadata": {},
   "source": [
    "### Run the Query"
   ]
  },
  {
   "cell_type": "code",
   "execution_count": 11,
   "metadata": {},
   "outputs": [
    {
     "name": "stdout",
     "output_type": "stream",
     "text": [
      "August 13  1961: Building of the Berlin Wall begins.\n",
      " August 14  1945: Japan announces its surrender at the end of World War II.\n",
      " August 14/15  1947: India is partitioned at independence from the UK, as the new mainly Islamic state of Pakistan is created.\n",
      " August 15  1960: The Republic of the Congo becomes independent.\n",
      " August 15  1971: Bahrain becomes independent.\n",
      " August 16  1977: Elvis Presley dies aged 42, leading to a worldwide outpouring of grief.\n",
      " August 17  1945: Indonesia declares independence from the Netherlands.\n",
      " August 17  1960: Gabon becomes independent.\n",
      " August 17  1962: Peter Fechter becomes the first person to be shot dead at the Berlin Wall.\n",
      " August 19  43 BC: Augustus becomes Roman consul.\n",
      " August 19  14: Augustus dies.\n",
      " August 19  1919: Afghanistan becomes independent.\n",
      " August 19  1991: The August Coup against Mikhail Gorbachev, in the Soviet Union, begins.\n",
      " August 20  1940: Leon Trotsky is fatally wounded with an ice pick in Mexico.\n",
      " August 20  1968: The Prague Spring uprising is crushed.\n",
      " August 20  1991: Estonia regains its independence from the Soviet Union.\n",
      " August 21  1959: Hawaii becomes the 50th State of the US.\n",
      " August 24  79: Vesuvius erupts, destroying Pompeii and neighbouring Herculaneum.\n",
      " August 24  1991: Ukraine regains independence from the Soviet Union.\n",
      " August 25  1825: Uruguay declares independence from Brazil.\n",
      "After the liberation of Denmark, one part of the country was not. That was the island of Bornholm. The German Commandant von Kamptz who was stationed there, refused to surrender to the Soviets as the German were fleeing to Bornholm and further to Sweden. The Soviets then bombed the two biggest towns Rønne and Nexø. After the Germans were captured on May 9, 1945, the Soviet Army occupied the island until April 6, 1946.\n",
      "\n",
      "After World War Two, Denmark became a member of NATO and the European Union. Greenland and the Faroe Islands are now part of the Kingdom of Denmark and have their own governments and limited power.\n",
      "\n",
      "Government and politics \n",
      "\n",
      "Denmark has three branches of power; the judiciary (the courts), the executive (the Prime Minister and the cabinet) and the legislature (the Danish parliament). The current Prime Minister of Denmark is Mette Frederiksen, who was elected in June 2019.\n",
      "\n",
      "Denmark is a Kingdom which means it has a monarch (a king or queen). The current monarch is Queen Margrethe II. Margrethe II does not have a lot of power (she does not make any important decisions) and has a symbolic role. Denmark became a constitutional monarchy in 1849.\n",
      "\n",
      "Elections to the parliament are held every four years, and the winner of the election is the party or coalition which gets the most votes and seats in the parliament. After the elections are done, several parties who are in agreement will group together to form a coalition government, and the leader of the largest party becomes the prime minister.\n",
      "\n",
      "Here is a short summary of the biggest political parties in Denmark, from left to right on the political axis:\n",
      "In 1989, there were protests in Tian'anmen Square because some people wanted democracy.\n",
      "\n",
      "Special places\n",
      "Important places in Beijing include:\n",
      " The Great Wall of China (Chángchéng), in the mountains between Beijing and the grasslands of Mongolia\n",
      " The Forbidden City (Gùgōng), the most important home of the emperors of Ming and Qing China\n",
      " Tian'anmen Square (Tiān'ānmén Guǎngchǎng), surrounded by China's most important government buildings and museums\n",
      " Jingshan & Beihai Parks, the hill overlooking the Forbidden City and the lake beside it, with many temples\n",
      " The Summer Palace (Yìhéyuán) and Old Summer Palace (Yuánmíng Yuán), the more natural home of the last Qing emperors and what is left of an older one\n",
      " Prince Gong's Mansion, a very nice old house for one of the Qing princes\n",
      " The Imperial Ancestral Temple (Tàimiào), where the emperors remembered the earlier people in their families\n",
      " The Temple of Heaven (Tiāntán) and Temple of the Earth (Dìtán), important places for China's old national religion\n",
      " The Temples of the Sun and the Moon, other important places for China's old national religion\n",
      " The Temple of Confucius and Imperial Academy, important places for China's old kind of education\n",
      " Niujie Mosque, a place for Beijing's Muslims and one of the city's oldest buildings\n",
      " The National and Urban Planning Museums\n",
      " Olympic Green, the park left from the 2008 Beijing Olympics\n",
      " Marco Polo Bridge, a very old bridge across the main river west of town\n",
      " Ming Tombs, where many Ming emperors were buried\n",
      " Zhoukoudian, caves in the mountains west of town where people lived long, long ago\n"
     ]
    }
   ],
   "source": [
    "query = \"What is the Berlin wall?\"\n",
    "\n",
    "embed = get_embeddings(query)\n",
    "results = index.query(vector=embed.data[0].embedding, top_k=3, include_metadata=True)\n",
    "text = [result['metadata'][\"text\"] for result in results['matches']]\n",
    "print(\"\\n\".join(text))"
   ]
  },
  {
   "cell_type": "markdown",
   "metadata": {},
   "source": [
    "### Build the Prompt"
   ]
  },
  {
   "cell_type": "code",
   "execution_count": 12,
   "metadata": {},
   "outputs": [
    {
     "name": "stdout",
     "output_type": "stream",
     "text": [
      "Answer the question based on the context below.\n",
      "\n",
      "Context:\n",
      "August 13  1961: Building of the Berlin Wall begins.\n",
      " August 14  1945: Japan announces its surrender at the end of World War II.\n",
      " August 14/15  1947: India is partitioned at independence from the UK, as the new mainly Islamic state of Pakistan is created.\n",
      " August 15  1960: The Republic of the Congo becomes independent.\n",
      " August 15  1971: Bahrain becomes independent.\n",
      " August 16  1977: Elvis Presley dies aged 42, leading to a worldwide outpouring of grief.\n",
      " August 17  1945: Indonesia declares independence from the Netherlands.\n",
      " August 17  1960: Gabon becomes independent.\n",
      " August 17  1962: Peter Fechter becomes the first person to be shot dead at the Berlin Wall.\n",
      " August 19  43 BC: Augustus becomes Roman consul.\n",
      " August 19  14: Augustus dies.\n",
      " August 19  1919: Afghanistan becomes independent.\n",
      " August 19  1991: The August Coup against Mikhail Gorbachev, in the Soviet Union, begins.\n",
      " August 20  1940: Leon Trotsky is fatally wounded with an ice pick in Mexico.\n",
      " August 20  1968: The Prague Spring uprising is crushed.\n",
      " August 20  1991: Estonia regains its independence from the Soviet Union.\n",
      " August 21  1959: Hawaii becomes the 50th State of the US.\n",
      " August 24  79: Vesuvius erupts, destroying Pompeii and neighbouring Herculaneum.\n",
      " August 24  1991: Ukraine regains independence from the Soviet Union.\n",
      " August 25  1825: Uruguay declares independence from Brazil.\n",
      "\n",
      "---\n",
      "\n",
      "Everything2 or E2 is a website.  It lets people make pages about many different things, and some people use it as a diary.\n",
      "\n",
      "E2 users create pages called nodes and add stuff in writeups.  Only logged-in users can create writeups.  Only the person who created the writeup or someone who the website owners (called \"gods\") choose can edit the writeup.  On the other hand, on Wikipedia, anyone can edit pages, but on Everything2 only those who can edit the writeup can edit pages.\n",
      "\n",
      "Everything2 does not require a neutral point of view like Wikipedia does. So, it is possible to have more than one article (writeups) under the same title (node), each by different authors, and presenting different points of view.\n",
      "\n",
      "Other websites \n",
      " Everything2 website\n",
      " Everything2.com article about Wikipedia\n",
      "\n",
      "Websites\n",
      "\n",
      "---\n",
      "\n",
      "After the liberation of Denmark, one part of the country was not. That was the island of Bornholm. The German Commandant von Kamptz who was stationed there, refused to surrender to the Soviets as the German were fleeing to Bornholm and further to Sweden. The Soviets then bombed the two biggest towns Rønne and Nexø. After the Germans were captured on May 9, 1945, the Soviet Army occupied the island until April 6, 1946.\n",
      "\n",
      "After World War Two, Denmark became a member of NATO and the European Union. Greenland and the Faroe Islands are now part of the Kingdom of Denmark and have their own governments and limited power.\n",
      "\n",
      "Government and politics \n",
      "\n",
      "Denmark has three branches of power; the judiciary (the courts), the executive (the Prime Minister and the cabinet) and the legislature (the Danish parliament). The current Prime Minister of Denmark is Mette Frederiksen, who was elected in June 2019.\n",
      "\n",
      "Denmark is a Kingdom which means it has a monarch (a king or queen). The current monarch is Queen Margrethe II. Margrethe II does not have a lot of power (she does not make any important decisions) and has a symbolic role. Denmark became a constitutional monarchy in 1849.\n",
      "\n",
      "Elections to the parliament are held every four years, and the winner of the election is the party or coalition which gets the most votes and seats in the parliament. After the elections are done, several parties who are in agreement will group together to form a coalition government, and the leader of the largest party becomes the prime minister.\n",
      "\n",
      "Here is a short summary of the biggest political parties in Denmark, from left to right on the political axis:\n",
      "\n",
      "Question: Write an article titled: What is the berlin wall?\n",
      "Answer:\n"
     ]
    }
   ],
   "source": [
    "query = \"Write an article titled: What is the berlin wall?\"\n",
    "embed = get_embeddings([query])\n",
    "res = index.query(vector=embed.data[0].embedding, top_k=3, include_metadata=True)\n",
    "\n",
    "contexts = [\n",
    "    x['metadata']['text'] for x in res['matches']\n",
    "]\n",
    "\n",
    "prompt_start = (\n",
    "    \"Answer the question based on the context below.\\n\\n\"+\n",
    "    \"Context:\\n\"\n",
    ")\n",
    "\n",
    "prompt_end = (\n",
    "    f\"\\n\\nQuestion: {query}\\nAnswer:\"\n",
    ")\n",
    "\n",
    "prompt = (\n",
    "    prompt_start + \"\\n\\n---\\n\\n\".join(contexts) + \n",
    "    prompt_end\n",
    ")\n",
    "\n",
    "print(prompt)"
   ]
  },
  {
   "cell_type": "markdown",
   "metadata": {},
   "source": [
    "### Get the Summary"
   ]
  },
  {
   "cell_type": "code",
   "execution_count": 16,
   "metadata": {},
   "outputs": [
    {
     "name": "stdout",
     "output_type": "stream",
     "text": [
      "--------------------------------------------------------------------------------\n",
      "**What is the Berlin Wall?**\n",
      "\n",
      "The Berlin Wall was a physical barrier that divided the city of Berlin from 1961 to 1989. It was constructed by the German Democratic Republic (GDR), commonly known as East Germany, starting on August 13, 1961. The Wall was a symbol of the Cold War and represented the ideological divide between the communist Eastern Bloc and the capitalist Western Bloc.\n",
      "\n",
      "**Historical Context**\n",
      "\n",
      "After World War II, Germany was divided into four occupation zones controlled by the United States, the United Kingdom, France, and the Soviet Union. Berlin, although located entirely within the Soviet zone, was similarly divided into four sectors. Tensions between the Soviet Union and the Western Allies escalated, leading to the establishment of two separate German states in 1949: the Federal Republic of Germany (West Germany) and the German Democratic Republic (East Germany).\n",
      "\n",
      "**Construction and Purpose**\n",
      "\n",
      "The Berlin Wall was erected to prevent East Germans from fleeing to West Berlin and, by extension, to West Germany. The GDR government claimed that the Wall was an \"anti-fascist protective barrier\" to prevent Western spies and agitators from entering East Germany. In reality, it was built to stop the mass exodus of East Germans seeking political asylum and better economic opportunities in the West.\n",
      "\n",
      "**Structure and Features**\n",
      "\n",
      "The Wall was initially made of barbed wire and cinder blocks but was later fortified with concrete segments, watchtowers, anti-vehicle trenches, and other security measures. It stretched approximately 155 kilometers (96 miles) around West Berlin, effectively encircling it. The \"death strip,\" a no-man's land between the inner and outer walls, was heavily guarded and booby-trapped to deter escape attempts.\n",
      "\n",
      "**Impact on Berlin and Its People**\n",
      "\n",
      "The Berlin Wall had a profound impact on the lives of Berliners. Families and friends were separated, and many East Germans risked their lives attempting to escape to the West. Over the years, numerous escape attempts were made, some successful and others tragically ending in death. The most famous escapee was Peter Fechter, who was shot and left to die in the death strip in 1962, becoming a symbol of the Wall's brutality.\n",
      "\n",
      "**Fall of the Berlin Wall**\n",
      "\n",
      "The Berlin Wall stood for 28 years until political changes in the Soviet Union and growing unrest in East Germany led to its fall. On November 9, 1989, the East German government announced that citizens could cross the border freely. Jubilant crowds from both East and West Berlin gathered at the Wall, and people began to dismantle it, marking the beginning of the end of the Cold War.\n",
      "\n",
      "**Legacy**\n",
      "\n",
      "The Berlin Wall remains a powerful symbol of the Cold War and the struggle for freedom. Today, sections of the Wall are preserved as historical monuments, and the Berlin Wall Memorial stands as a reminder of the division and the human cost of political conflict. The fall of the Berlin Wall paved the way for German reunification, which was officially completed on October 3, 1990.\n",
      "\n",
      "In conclusion, the Berlin Wall was more than just a physical barrier; it was a manifestation of the ideological divide that defined the 20th century. Its construction,\n"
     ]
    }
   ],
   "source": [
    "res = openai_client.chat.completions.create(\n",
    "    model=\"gpt-4o\",\n",
    "    messages=[\n",
    "      {\n",
    "        \"role\": \"user\",\n",
    "        \"content\": prompt\n",
    "      }\n",
    "    ],\n",
    "    temperature=0,\n",
    "    max_tokens=650,\n",
    "    top_p=1,\n",
    "    frequency_penalty=0,\n",
    "    presence_penalty=0,\n",
    "    stop=None\n",
    ")\n",
    "\n",
    "print('-' * 80)\n",
    "print(res.choices[0].message.content)"
   ]
  }
 ],
 "metadata": {
  "kernelspec": {
   "display_name": "dlai-building-apps-vector-dbs-UOhGJ8u6-py3.12",
   "language": "python",
   "name": "python3"
  },
  "language_info": {
   "codemirror_mode": {
    "name": "ipython",
    "version": 3
   },
   "file_extension": ".py",
   "mimetype": "text/x-python",
   "name": "python",
   "nbconvert_exporter": "python",
   "pygments_lexer": "ipython3",
   "version": "3.12.4"
  }
 },
 "nbformat": 4,
 "nbformat_minor": 2
}

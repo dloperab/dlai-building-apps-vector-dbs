{
 "cells": [
  {
   "cell_type": "code",
   "execution_count": null,
   "metadata": {},
   "outputs": [],
   "source": []
  },
  {
   "cell_type": "markdown",
   "metadata": {},
   "source": [
    "# Lesson 1: Semantic Search"
   ]
  },
  {
   "cell_type": "markdown",
   "metadata": {},
   "source": [
    "### Import packages"
   ]
  },
  {
   "cell_type": "code",
   "execution_count": 1,
   "metadata": {},
   "outputs": [],
   "source": [
    "import warnings\n",
    "warnings.filterwarnings('ignore')"
   ]
  },
  {
   "cell_type": "code",
   "execution_count": 2,
   "metadata": {},
   "outputs": [],
   "source": [
    "from datasets import load_dataset\n",
    "from sentence_transformers import SentenceTransformer\n",
    "from pinecone import Pinecone, ServerlessSpec\n",
    "from DLAIUtils import Utils\n",
    "import DLAIUtils\n",
    "\n",
    "import os\n",
    "import time\n",
    "import torch\n",
    "\n",
    "from tqdm.auto import tqdm"
   ]
  },
  {
   "cell_type": "markdown",
   "metadata": {},
   "source": [
    "### Load the dataset"
   ]
  },
  {
   "cell_type": "code",
   "execution_count": 3,
   "metadata": {},
   "outputs": [
    {
     "name": "stderr",
     "output_type": "stream",
     "text": [
      "Downloading data: 100%|██████████| 58.2M/58.2M [00:01<00:00, 39.2MB/s]\n",
      "Generating train split: 100%|██████████| 404290/404290 [00:05<00:00, 78151.61 examples/s]\n"
     ]
    }
   ],
   "source": [
    "dataset = load_dataset('quora', split='train[240000:290000]', trust_remote_code=True)"
   ]
  },
  {
   "cell_type": "code",
   "execution_count": 4,
   "metadata": {},
   "outputs": [
    {
     "data": {
      "text/plain": [
       "{'questions': [{'id': [207550, 351729],\n",
       "   'text': ['What is the truth of life?', \"What's the evil truth of life?\"]},\n",
       "  {'id': [33183, 351730],\n",
       "   'text': ['Which is the best smartphone under 20K in India?',\n",
       "    'Which is the best smartphone with in 20k in India?']},\n",
       "  {'id': [351731, 351732],\n",
       "   'text': ['Steps taken by Canadian government to improve literacy rate?',\n",
       "    'Can I send homemade herbal hair oil from India to US via postal or private courier services?']},\n",
       "  {'id': [37799, 94186],\n",
       "   'text': ['What is a good way to lose 30 pounds in 2 months?',\n",
       "    'What can I do to lose 30 pounds in 2 months?']},\n",
       "  {'id': [351733, 351734],\n",
       "   'text': ['Which of the following most accurately describes the translation of the graph y = (x+3)^2 -2 to the graph of y = (x -2)^2 +2?',\n",
       "    'How do you graph x + 2y = -2?']}],\n",
       " 'is_duplicate': [False, True, False, True, False]}"
      ]
     },
     "execution_count": 4,
     "metadata": {},
     "output_type": "execute_result"
    }
   ],
   "source": [
    "dataset[:5]"
   ]
  },
  {
   "cell_type": "code",
   "execution_count": 14,
   "metadata": {},
   "outputs": [
    {
     "name": "stdout",
     "output_type": "stream",
     "text": [
      "What is the truth of life?\n",
      "What's the evil truth of life?\n",
      "Which is the best smartphone under 20K in India?\n",
      "Which is the best smartphone with in 20k in India?\n",
      "Steps taken by Canadian government to improve literacy rate?\n",
      "Can I send homemade herbal hair oil from India to US via postal or private courier services?\n",
      "What is a good way to lose 30 pounds in 2 months?\n",
      "What can I do to lose 30 pounds in 2 months?\n",
      "Which of the following most accurately describes the translation of the graph y = (x+3)^2 -2 to the graph of y = (x -2)^2 +2?\n",
      "How do you graph x + 2y = -2?\n",
      "--------------------------------------------------\n",
      "Number of questions: 100000\n"
     ]
    }
   ],
   "source": [
    "questions = []\n",
    "for record in dataset[\"questions\"]:\n",
    "  questions.extend(record[\"text\"])\n",
    "question = list(set(questions))\n",
    "print(\"\\n\".join(questions[:10]))\n",
    "print(\"-\" * 50)\n",
    "print(f\"Number of questions: {len(questions)}\")"
   ]
  },
  {
   "cell_type": "markdown",
   "metadata": {},
   "source": [
    "### Check cuda and Setup the model\n",
    "\n",
    "We are using *all-MiniLM-L6-v2* sentence-transformers model that maps sentences to a 384 dimensional dense vector space."
   ]
  },
  {
   "cell_type": "code",
   "execution_count": 15,
   "metadata": {},
   "outputs": [
    {
     "name": "stdout",
     "output_type": "stream",
     "text": [
      "Sorry no cuda.\n"
     ]
    }
   ],
   "source": [
    "device = \"cuda\" if torch.cuda.is_available() else \"cpu\"\n",
    "if device != \"cuda\":\n",
    "  print(\"Sorry no cuda.\")\n",
    "\n",
    "model = SentenceTransformer('all-MiniLM-L6-v2', device=device)"
   ]
  },
  {
   "cell_type": "code",
   "execution_count": 17,
   "metadata": {},
   "outputs": [
    {
     "data": {
      "text/plain": [
       "(384,)"
      ]
     },
     "execution_count": 17,
     "metadata": {},
     "output_type": "execute_result"
    }
   ],
   "source": [
    "query = \"Which city is the most populated in the world?\"\n",
    "embedding = model.encode(query)\n",
    "embedding.shape"
   ]
  },
  {
   "cell_type": "markdown",
   "metadata": {},
   "source": [
    "### Setup Pinecone"
   ]
  },
  {
   "cell_type": "code",
   "execution_count": 18,
   "metadata": {},
   "outputs": [],
   "source": [
    "utils = Utils()\n",
    "PINECONE_API_KEY = utils.get_pinecone_api_key()"
   ]
  },
  {
   "cell_type": "code",
   "execution_count": 24,
   "metadata": {},
   "outputs": [
    {
     "name": "stdout",
     "output_type": "stream",
     "text": [
      "Pinecone index: dl-ai-quora\n",
      "<pinecone.data.index.Index object at 0x30ffbb560>\n"
     ]
    }
   ],
   "source": [
    "pinecone = Pinecone(api_key=PINECONE_API_KEY)\n",
    "INDEX_NAME = \"dl-ai-quora\"\n",
    "\n",
    "if INDEX_NAME in [index.name for index in pinecone.list_indexes()]:\n",
    "  pinecone.delete_index(INDEX_NAME)\n",
    "\n",
    "print(f\"Pinecone index: {INDEX_NAME}\")\n",
    "\n",
    "pinecone.create_index(\n",
    "  name=INDEX_NAME,\n",
    "  dimension=model.get_sentence_embedding_dimension(),\n",
    "  metric=\"cosine\",\n",
    "  spec=ServerlessSpec(cloud=\"aws\", region=\"us-east-1\"))\n",
    "\n",
    "index = pinecone.Index(INDEX_NAME)\n",
    "print(index)"
   ]
  },
  {
   "cell_type": "markdown",
   "metadata": {},
   "source": [
    "### Create Embeddings and Upsert to Pinecone"
   ]
  },
  {
   "cell_type": "code",
   "execution_count": 26,
   "metadata": {},
   "outputs": [
    {
     "name": "stderr",
     "output_type": "stream",
     "text": [
      "100%|██████████| 50/50 [00:31<00:00,  1.60it/s]\n"
     ]
    }
   ],
   "source": [
    "batch_size = 200\n",
    "vector_limit = 10000\n",
    "\n",
    "questions = question[:vector_limit]\n",
    "\n",
    "import json\n",
    "\n",
    "for i in tqdm(range(0, len(questions), batch_size)):\n",
    "  # find end of batch\n",
    "  i_end = min(i + batch_size, len(questions))\n",
    "  # create IDs batch\n",
    "  ids = [str(x) for x in range(i, i_end)]\n",
    "  # create metadata batch\n",
    "  metadatas = [{\"text\": text} for text in questions[i:i_end]]\n",
    "  # create embeddings\n",
    "  embeddings = model.encode(questions[i:i_end])\n",
    "  # create records list for upsert\n",
    "  records = zip(ids, embeddings, metadatas)\n",
    "  # upsert to Pinecone\n",
    "  index.upsert(vectors=records)"
   ]
  },
  {
   "cell_type": "code",
   "execution_count": 27,
   "metadata": {},
   "outputs": [
    {
     "data": {
      "text/plain": [
       "{'dimension': 384,\n",
       " 'index_fullness': 0.0,\n",
       " 'namespaces': {'': {'vector_count': 10000}},\n",
       " 'total_vector_count': 10000}"
      ]
     },
     "execution_count": 27,
     "metadata": {},
     "output_type": "execute_result"
    }
   ],
   "source": [
    "index.describe_index_stats()"
   ]
  },
  {
   "cell_type": "markdown",
   "metadata": {},
   "source": [
    "### Run your Query"
   ]
  },
  {
   "cell_type": "code",
   "execution_count": 36,
   "metadata": {},
   "outputs": [],
   "source": [
    "def run_query(query):\n",
    "  embedding = model.encode(query).tolist()\n",
    "  results = index.query(top_k=10, vector=embedding, include_metadata=True, include_values=False)\n",
    "  for result in results[\"matches\"]:\n",
    "    print(f\"{round(result[\"score\"], 2)}: {result[\"metadata\"][\"text\"]}\")"
   ]
  },
  {
   "cell_type": "code",
   "execution_count": 37,
   "metadata": {},
   "outputs": [
    {
     "name": "stdout",
     "output_type": "stream",
     "text": [
      "0.7: What is the most isolated city in the world, with over a million metro area inhabitants?\n",
      "0.69: What is the most beautiful city in the world?\n",
      "0.64: What country has the fastest growing population and why?\n",
      "0.61: How's the world's population determined?\n",
      "0.6: What percentage of the world's population lives in developed countries?\n",
      "0.59: Which are the top 10 largest cities of India by area?\n",
      "0.56: Which is the best city in India?\n",
      "0.54: What are the largest slums in the world?\n",
      "0.51: What do you think are the top 3 countries to live in?\n",
      "0.5: Which is the largest state in India?\n"
     ]
    }
   ],
   "source": [
    "run_query(\"Which city has the highest population in the world?\")"
   ]
  },
  {
   "cell_type": "code",
   "execution_count": 38,
   "metadata": {},
   "outputs": [
    {
     "name": "stdout",
     "output_type": "stream",
     "text": [
      "0.77: How do I make a cake from scratch?\n",
      "0.58: What's a good recipe for cake featuring Ciroc?\n",
      "0.52: How do you make shepherd's pie?\n",
      "0.46: How can one make the Mint Mojito coffee at home similar to the one at Phillz?\n",
      "0.45: Where can I get very nice and original flavor cupcakes in Gold Coast?\n",
      "0.45: How do you make love?\n",
      "0.45: How do you make scrambled eggs without milk?\n",
      "0.45: Is chocolate milk healthy?\n",
      "0.44: Where can I buy best quality customized cupcakes in Gold Coast?\n",
      "0.42: How do I make floral foam?\n"
     ]
    }
   ],
   "source": [
    "query = \"How do I make chocolate cake?\"\n",
    "run_query(query)"
   ]
  }
 ],
 "metadata": {
  "kernelspec": {
   "display_name": "dlai-building-apps-vector-dbs-UOhGJ8u6-py3.12",
   "language": "python",
   "name": "python3"
  },
  "language_info": {
   "codemirror_mode": {
    "name": "ipython",
    "version": 3
   },
   "file_extension": ".py",
   "mimetype": "text/x-python",
   "name": "python",
   "nbconvert_exporter": "python",
   "pygments_lexer": "ipython3",
   "version": "3.12.4"
  }
 },
 "nbformat": 4,
 "nbformat_minor": 2
}
